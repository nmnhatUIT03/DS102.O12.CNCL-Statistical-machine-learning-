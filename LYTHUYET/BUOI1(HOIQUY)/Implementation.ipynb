{
 "cells": [
  {
   "cell_type": "code",
   "execution_count": 1,
   "metadata": {},
   "outputs": [
    {
     "ename": "ModuleNotFoundError",
     "evalue": "No module named 'statsmodels'",
     "output_type": "error",
     "traceback": [
      "\u001b[1;31m---------------------------------------------------------------------------\u001b[0m",
      "\u001b[1;31mModuleNotFoundError\u001b[0m                       Traceback (most recent call last)",
      "\u001b[1;32mc:\\Users\\nminh\\OneDrive - Trường ĐH CNTT - University of Information Technology\\DS102.O12.CNCL-Statistical-machine-learning-\\LYTHUYET\\BUOI1(HOIQUY)\\Implementation.ipynb Cell 1\u001b[0m line \u001b[0;36m1\n\u001b[1;32m----> <a href='vscode-notebook-cell:/c%3A/Users/nminh/OneDrive%20-%20Tr%C6%B0%E1%BB%9Dng%20%C4%90H%20CNTT%20-%20University%20of%20Information%20Technology/DS102.O12.CNCL-Statistical-machine-learning-/LYTHUYET/BUOI1%28HOIQUY%29/Implementation.ipynb#W0sZmlsZQ%3D%3D?line=0'>1</a>\u001b[0m \u001b[39mimport\u001b[39;00m \u001b[39mstatsmodels\u001b[39;00m\u001b[39m.\u001b[39;00m\u001b[39mformula\u001b[39;00m\u001b[39m.\u001b[39;00m\u001b[39mapi\u001b[39;00m \u001b[39mas\u001b[39;00m \u001b[39msmf\u001b[39;00m\n\u001b[0;32m      <a href='vscode-notebook-cell:/c%3A/Users/nminh/OneDrive%20-%20Tr%C6%B0%E1%BB%9Dng%20%C4%90H%20CNTT%20-%20University%20of%20Information%20Technology/DS102.O12.CNCL-Statistical-machine-learning-/LYTHUYET/BUOI1%28HOIQUY%29/Implementation.ipynb#W0sZmlsZQ%3D%3D?line=1'>2</a>\u001b[0m \u001b[39mimport\u001b[39;00m \u001b[39mpandas\u001b[39;00m \u001b[39mas\u001b[39;00m \u001b[39mpd\u001b[39;00m\n\u001b[0;32m      <a href='vscode-notebook-cell:/c%3A/Users/nminh/OneDrive%20-%20Tr%C6%B0%E1%BB%9Dng%20%C4%90H%20CNTT%20-%20University%20of%20Information%20Technology/DS102.O12.CNCL-Statistical-machine-learning-/LYTHUYET/BUOI1%28HOIQUY%29/Implementation.ipynb#W0sZmlsZQ%3D%3D?line=2'>3</a>\u001b[0m \u001b[39mimport\u001b[39;00m \u001b[39mscipy\u001b[39;00m\u001b[39m.\u001b[39;00m\u001b[39mstats\u001b[39;00m \u001b[39mas\u001b[39;00m \u001b[39mstats\u001b[39;00m\n",
      "\u001b[1;31mModuleNotFoundError\u001b[0m: No module named 'statsmodels'"
     ]
    }
   ],
   "source": [
    "import statsmodels.formula.api as smf\n",
    "import pandas as pd\n",
    "import scipy.stats as stats\n",
    "import numpy as np\n",
    "from pandas import DataFrame\n",
    "from scipy.stats.distributions import  t\n",
    "\n",
    "xl = pd.ExcelFile('demo_data.xls')\n",
    "df = pd.read_excel(xl, 0, header=0)\n",
    "\n",
    "results = smf.ols('y ~ X', data=df).fit()\n",
    "# Các biến trên công thức trên nó phải là tên cột của df"
   ]
  },
  {
   "cell_type": "code",
   "execution_count": 2,
   "metadata": {},
   "outputs": [
    {
     "ename": "NameError",
     "evalue": "name 'df' is not defined",
     "output_type": "error",
     "traceback": [
      "\u001b[1;31m---------------------------------------------------------------------------\u001b[0m",
      "\u001b[1;31mNameError\u001b[0m                                 Traceback (most recent call last)",
      "\u001b[1;32mc:\\Users\\nminh\\OneDrive - Trường ĐH CNTT - University of Information Technology\\DS102.O12.CNCL-Statistical-machine-learning-\\LYTHUYET\\BUOI1(HOIQUY)\\Implementation.ipynb Cell 2\u001b[0m line \u001b[0;36m1\n\u001b[1;32m----> <a href='vscode-notebook-cell:/c%3A/Users/nminh/OneDrive%20-%20Tr%C6%B0%E1%BB%9Dng%20%C4%90H%20CNTT%20-%20University%20of%20Information%20Technology/DS102.O12.CNCL-Statistical-machine-learning-/LYTHUYET/BUOI1%28HOIQUY%29/Implementation.ipynb#W1sZmlsZQ%3D%3D?line=0'>1</a>\u001b[0m X \u001b[39m=\u001b[39m df[\u001b[39m'\u001b[39m\u001b[39mX\u001b[39m\u001b[39m'\u001b[39m]\u001b[39m.\u001b[39mto_numpy() \u001b[39m# Chuyển sang Numpy Array\u001b[39;00m\n\u001b[0;32m      <a href='vscode-notebook-cell:/c%3A/Users/nminh/OneDrive%20-%20Tr%C6%B0%E1%BB%9Dng%20%C4%90H%20CNTT%20-%20University%20of%20Information%20Technology/DS102.O12.CNCL-Statistical-machine-learning-/LYTHUYET/BUOI1%28HOIQUY%29/Implementation.ipynb#W1sZmlsZQ%3D%3D?line=1'>2</a>\u001b[0m X \u001b[39m=\u001b[39m np\u001b[39m.\u001b[39mstack((np\u001b[39m.\u001b[39mones(X\u001b[39m.\u001b[39mshape[\u001b[39m0\u001b[39m]), X), axis\u001b[39m=\u001b[39m\u001b[39m0\u001b[39m)\u001b[39m.\u001b[39mT\n\u001b[0;32m      <a href='vscode-notebook-cell:/c%3A/Users/nminh/OneDrive%20-%20Tr%C6%B0%E1%BB%9Dng%20%C4%90H%20CNTT%20-%20University%20of%20Information%20Technology/DS102.O12.CNCL-Statistical-machine-learning-/LYTHUYET/BUOI1%28HOIQUY%29/Implementation.ipynb#W1sZmlsZQ%3D%3D?line=2'>3</a>\u001b[0m m \u001b[39m=\u001b[39m X\u001b[39m.\u001b[39mshape[\u001b[39m0\u001b[39m] \u001b[39m# Số mẫu\u001b[39;00m\n",
      "\u001b[1;31mNameError\u001b[0m: name 'df' is not defined"
     ]
    }
   ],
   "source": [
    "X = df['X'].to_numpy() # Chuyển sang Numpy Array\n",
    "X = np.stack((np.ones(X.shape[0]), X), axis=0).T\n",
    "m = X.shape[0] # Số mẫu\n",
    "n = X.shape[1] - 1 # Số biến (slope)\n",
    "y = df['y'].to_numpy() # Chuyển sang Numpy Array"
   ]
  },
  {
   "cell_type": "code",
   "execution_count": 3,
   "metadata": {},
   "outputs": [
    {
     "ename": "NameError",
     "evalue": "name 'np' is not defined",
     "output_type": "error",
     "traceback": [
      "\u001b[1;31m---------------------------------------------------------------------------\u001b[0m",
      "\u001b[1;31mNameError\u001b[0m                                 Traceback (most recent call last)",
      "\u001b[1;32mc:\\Users\\nminh\\OneDrive - Trường ĐH CNTT - University of Information Technology\\DS102.O12.CNCL-Statistical-machine-learning-\\LYTHUYET\\BUOI1(HOIQUY)\\Implementation.ipynb Cell 3\u001b[0m line \u001b[0;36m1\n\u001b[1;32m----> <a href='vscode-notebook-cell:/c%3A/Users/nminh/OneDrive%20-%20Tr%C6%B0%E1%BB%9Dng%20%C4%90H%20CNTT%20-%20University%20of%20Information%20Technology/DS102.O12.CNCL-Statistical-machine-learning-/LYTHUYET/BUOI1%28HOIQUY%29/Implementation.ipynb#W2sZmlsZQ%3D%3D?line=0'>1</a>\u001b[0m X_bar \u001b[39m=\u001b[39m np\u001b[39m.\u001b[39mmean(X, axis\u001b[39m=\u001b[39m\u001b[39m0\u001b[39m) \u001b[39m# Trung bình cộng\u001b[39;00m\n\u001b[0;32m      <a href='vscode-notebook-cell:/c%3A/Users/nminh/OneDrive%20-%20Tr%C6%B0%E1%BB%9Dng%20%C4%90H%20CNTT%20-%20University%20of%20Information%20Technology/DS102.O12.CNCL-Statistical-machine-learning-/LYTHUYET/BUOI1%28HOIQUY%29/Implementation.ipynb#W2sZmlsZQ%3D%3D?line=1'>2</a>\u001b[0m y_bar \u001b[39m=\u001b[39m np\u001b[39m.\u001b[39mmean(y) \u001b[39m# Trung bình cộng toàn bộ phần tử\u001b[39;00m\n\u001b[0;32m      <a href='vscode-notebook-cell:/c%3A/Users/nminh/OneDrive%20-%20Tr%C6%B0%E1%BB%9Dng%20%C4%90H%20CNTT%20-%20University%20of%20Information%20Technology/DS102.O12.CNCL-Statistical-machine-learning-/LYTHUYET/BUOI1%28HOIQUY%29/Implementation.ipynb#W2sZmlsZQ%3D%3D?line=3'>4</a>\u001b[0m XX \u001b[39m=\u001b[39m X\u001b[39m.\u001b[39mT \u001b[39m@\u001b[39m X \u001b[39m# @ là phép nhân ma trận\u001b[39;00m\n",
      "\u001b[1;31mNameError\u001b[0m: name 'np' is not defined"
     ]
    }
   ],
   "source": [
    "X_bar = np.mean(X, axis=0) # Trung bình cộng\n",
    "y_bar = np.mean(y) # Trung bình cộng toàn bộ phần tử\n",
    "\n",
    "XX = X.T @ X # @ là phép nhân ma trận\n",
    "XX_inv = np.linalg.inv(XX) # Ma trận nghịch đảo\n",
    "theta = XX_inv @ X.T @ y # Công thức số (7) trang 9\n",
    "y_hat = X @ theta # Công thức số (5) trang 8"
   ]
  },
  {
   "cell_type": "code",
   "execution_count": 4,
   "metadata": {},
   "outputs": [],
   "source": [
    "RSS = np.sum((y - y_hat)**2) # Công thức trang 12\n",
    "# residual sum of squares\n",
    "\n",
    "ESS = np.sum((y_hat - y_bar)**2) # Công thức trang 12\n",
    "# explained sum of squares\n",
    "\n",
    "TSS = np.sum((y - y_bar)**2)\n",
    "# total sum of square"
   ]
  },
  {
   "cell_type": "code",
   "execution_count": 5,
   "metadata": {},
   "outputs": [],
   "source": [
    "R2 = 1 - RSS / TSS # R-squared\n",
    "R2_adj = (R2 * (m - 1) - n) / (m - n - 1) # Adj. R-squared\n",
    "\n",
    "S2_n = RSS / (m - n - 1) #  is an unbiased estimator of the variance of the error\n",
    "S2_theta = S2_n * np.diag(XX_inv) # ma trận hiệp phương sai\n",
    "S_theta = np.sqrt(S2_theta) # standard error\n",
    "\n",
    "F_value = (ESS / n) / (RSS / (m - n - 1)) #\n",
    "# F_value càng lớn càng tốt\n",
    "# ESS: giải thích được (explain sum of squares)\n",
    "# RSS: không giải thích được\n",
    "# tỷ lệ ESS/RSS càng lớn lớn thì mô hình thiết kế có ý nghĩa\n",
    "# F_value => ESS = 0, chúng ta không giải thích được gì\n",
    "# F_value càng lớn, chúng ta được nhiều\n",
    "\n",
    "\n",
    "F_p_value = (1 - stats.f.cdf(F_value, n, m - n - 1)) #"
   ]
  },
  {
   "cell_type": "code",
   "execution_count": 6,
   "metadata": {},
   "outputs": [
    {
     "name": "stdout",
     "output_type": "stream",
     "text": [
      "1.1102230246251565e-16\n"
     ]
    }
   ],
   "source": [
    "F_p_value = (1 - stats.f.cdf(F_value, n, m - n - 1))\n",
    "# cumulative distribution function\n",
    "# input: giá trị x = F_value\n",
    "# output: cumulative probability\n",
    "# thư viện stats có phân phối f\n",
    "# phân phối f có hàm cumulative distribution function (cdf)\n",
    "print(F_p_value)"
   ]
  },
  {
   "cell_type": "code",
   "execution_count": 7,
   "metadata": {},
   "outputs": [
    {
     "data": {
      "text/plain": [
       "(268.5867127965644, 1.1102230246251565e-16)"
      ]
     },
     "execution_count": 7,
     "metadata": {},
     "output_type": "execute_result"
    }
   ],
   "source": [
    "F_value, F_p_value"
   ]
  },
  {
   "cell_type": "code",
   "execution_count": 8,
   "metadata": {},
   "outputs": [],
   "source": [
    "t_values = theta / S_theta\n",
    "t_p_values = (1 - stats.t.cdf(abs(t_values), m - n - 1)) * 2"
   ]
  },
  {
   "cell_type": "code",
   "execution_count": 9,
   "metadata": {},
   "outputs": [
    {
     "data": {
      "text/plain": [
       "array([0., 0.])"
      ]
     },
     "execution_count": 9,
     "metadata": {},
     "output_type": "execute_result"
    }
   ],
   "source": [
    "t_p_values"
   ]
  },
  {
   "cell_type": "code",
   "execution_count": 10,
   "metadata": {},
   "outputs": [],
   "source": [
    "alpha = 0.05\n",
    "sT = t.ppf(1.0 - alpha/2.0, m - n - 1)\n",
    "theta_CI = sT * S_theta"
   ]
  },
  {
   "cell_type": "code",
   "execution_count": 11,
   "metadata": {},
   "outputs": [
    {
     "name": "stdout",
     "output_type": "stream",
     "text": [
      "R-squared 0.7326689795917815\n",
      "Adj. R-squared 0.7299411120365955\n"
     ]
    }
   ],
   "source": [
    "print('R-squared', R2)\n",
    "print('Adj. R-squared', R2_adj)"
   ]
  },
  {
   "cell_type": "code",
   "execution_count": 12,
   "metadata": {},
   "outputs": [
    {
     "data": {
      "text/html": [
       "<div>\n",
       "<style scoped>\n",
       "    .dataframe tbody tr th:only-of-type {\n",
       "        vertical-align: middle;\n",
       "    }\n",
       "\n",
       "    .dataframe tbody tr th {\n",
       "        vertical-align: top;\n",
       "    }\n",
       "\n",
       "    .dataframe thead th {\n",
       "        text-align: right;\n",
       "    }\n",
       "</style>\n",
       "<table border=\"1\" class=\"dataframe\">\n",
       "  <thead>\n",
       "    <tr style=\"text-align: right;\">\n",
       "      <th></th>\n",
       "      <th>coef</th>\n",
       "      <th>std err</th>\n",
       "      <th>t</th>\n",
       "      <th>P&gt;|t|</th>\n",
       "      <th>[0.025</th>\n",
       "      <th>0.975]</th>\n",
       "    </tr>\n",
       "  </thead>\n",
       "  <tbody>\n",
       "    <tr>\n",
       "      <th>Intercept</th>\n",
       "      <td>4.1648</td>\n",
       "      <td>0.2031</td>\n",
       "      <td>20.5034</td>\n",
       "      <td>0.0</td>\n",
       "      <td>3.7617</td>\n",
       "      <td>4.5680</td>\n",
       "    </tr>\n",
       "    <tr>\n",
       "      <th>X</th>\n",
       "      <td>2.9328</td>\n",
       "      <td>0.1790</td>\n",
       "      <td>16.3886</td>\n",
       "      <td>0.0</td>\n",
       "      <td>2.5776</td>\n",
       "      <td>3.2879</td>\n",
       "    </tr>\n",
       "  </tbody>\n",
       "</table>\n",
       "</div>"
      ],
      "text/plain": [
       "             coef  std err        t  P>|t|  [0.025  0.975]\n",
       "Intercept  4.1648   0.2031  20.5034    0.0  3.7617  4.5680\n",
       "X          2.9328   0.1790  16.3886    0.0  2.5776  3.2879"
      ]
     },
     "metadata": {},
     "output_type": "display_data"
    }
   ],
   "source": [
    "df_temp = pd.DataFrame(data = {'coef': theta,\n",
    "                               'std err': S_theta,\n",
    "                               't': t_values,\n",
    "                               'P>|t|': t_p_values,\n",
    "                               '[0.025': theta - theta_CI,\n",
    "                               '0.975]': theta + theta_CI},\n",
    "                       index = ['Intercept', 'X'])\n",
    "\n",
    "display(df_temp.round(4))"
   ]
  },
  {
   "cell_type": "code",
   "execution_count": 13,
   "metadata": {},
   "outputs": [
    {
     "data": {
      "text/plain": [
       "(268.5867127965644, 1.1102230246251565e-16)"
      ]
     },
     "execution_count": 13,
     "metadata": {},
     "output_type": "execute_result"
    }
   ],
   "source": [
    "F_value, F_p_value"
   ]
  },
  {
   "cell_type": "code",
   "execution_count": 14,
   "metadata": {},
   "outputs": [
    {
     "name": "stdout",
     "output_type": "stream",
     "text": [
      "                            OLS Regression Results                            \n",
      "==============================================================================\n",
      "Dep. Variable:                      y   R-squared:                       0.733\n",
      "Model:                            OLS   Adj. R-squared:                  0.730\n",
      "Method:                 Least Squares   F-statistic:                     268.6\n",
      "Date:                Wed, 06 Oct 2021   Prob (F-statistic):           7.88e-30\n",
      "Time:                        15:47:08   Log-Likelihood:                -147.81\n",
      "No. Observations:                 100   AIC:                             299.6\n",
      "Df Residuals:                      98   BIC:                             304.8\n",
      "Df Model:                           1                                         \n",
      "Covariance Type:            nonrobust                                         \n",
      "==============================================================================\n",
      "                 coef    std err          t      P>|t|      [0.025      0.975]\n",
      "------------------------------------------------------------------------------\n",
      "Intercept      4.1648      0.203     20.503      0.000       3.762       4.568\n",
      "X              2.9328      0.179     16.389      0.000       2.578       3.288\n",
      "==============================================================================\n",
      "Omnibus:                        1.707   Durbin-Watson:                   1.886\n",
      "Prob(Omnibus):                  0.426   Jarque-Bera (JB):                1.200\n",
      "Skew:                          -0.241   Prob(JB):                        0.549\n",
      "Kurtosis:                       3.237   Cond. No.                         3.54\n",
      "==============================================================================\n",
      "\n",
      "Notes:\n",
      "[1] Standard Errors assume that the covariance matrix of the errors is correctly specified.\n"
     ]
    }
   ],
   "source": [
    "print(results.summary())"
   ]
  },
  {
   "cell_type": "code",
   "execution_count": null,
   "metadata": {},
   "outputs": [],
   "source": []
  }
 ],
 "metadata": {
  "kernelspec": {
   "display_name": "Python 3 (ipykernel)",
   "language": "python",
   "name": "python3"
  },
  "language_info": {
   "codemirror_mode": {
    "name": "ipython",
    "version": 3
   },
   "file_extension": ".py",
   "mimetype": "text/x-python",
   "name": "python",
   "nbconvert_exporter": "python",
   "pygments_lexer": "ipython3",
   "version": "3.11.2"
  }
 },
 "nbformat": 4,
 "nbformat_minor": 4
}
